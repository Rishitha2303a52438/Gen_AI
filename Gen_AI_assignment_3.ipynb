{
  "nbformat": 4,
  "nbformat_minor": 0,
  "metadata": {
    "colab": {
      "provenance": []
    },
    "kernelspec": {
      "name": "python3",
      "display_name": "Python 3"
    },
    "language_info": {
      "name": "python"
    }
  },
  "cells": [
    {
      "cell_type": "markdown",
      "source": [
        "Question 1"
      ],
      "metadata": {
        "id": "4aCw4Kk56rBp"
      }
    },
    {
      "cell_type": "code",
      "source": [
        "def square_error_derivatives(M, C, data):\n",
        "    dM = sum(-2 * (y - (M * x + C)) * x for x, y in data) / len(data)\n",
        "    dC = sum(-2 * (y - (M * x + C)) for x, y in data) / len(data)\n",
        "    return dM, dC\n",
        "\n",
        "def gradient_descent(learning_rate=0.01, tolerance=1e-6, data=[(1,2), (2,4), (3,6)]):\n",
        "    M, C = 0.0, 0.0  # Initial values\n",
        "    while True:\n",
        "        dM, dC = square_error_derivatives(M, C, data)\n",
        "        new_M = M - learning_rate * dM\n",
        "        new_C = C - learning_rate * dC\n",
        "        if abs(new_M - M) < tolerance and abs(new_C - C) < tolerance:\n",
        "            break\n",
        "        M, C = new_M, new_C\n",
        "    return M, C\n",
        "\n",
        "optimal_M, optimal_C = gradient_descent()\n",
        "print(\"Optimal M:\", optimal_M, \"Optimal C:\", optimal_C)"
      ],
      "metadata": {
        "colab": {
          "base_uri": "https://localhost:8080/"
        },
        "id": "MfuGuPrE1-37",
        "outputId": "8c6004ce-833a-405e-a81e-996ffb711ae1"
      },
      "execution_count": null,
      "outputs": [
        {
          "output_type": "stream",
          "name": "stdout",
          "text": [
            "Optimal M: 1.9998171008488164 Optimal C: 0.0004157727610256639\n"
          ]
        }
      ]
    },
    {
      "cell_type": "markdown",
      "source": [
        "Question 2"
      ],
      "metadata": {
        "id": "p64FnZ_b7_l1"
      }
    },
    {
      "cell_type": "code",
      "source": [
        "# Import sympy\n",
        "import sympy as sp\n",
        "\n",
        "# Define the symbols\n",
        "x, y = sp.symbols('x y')\n",
        "\n",
        "# Define the function\n",
        "f = 3 * x**2 + 5 * sp.exp(-y) + 10\n",
        "\n",
        "# Compute the partial derivatives\n",
        "f_prime_x = sp.diff(f, x)\n",
        "f_prime_y = sp.diff(f, y)\n",
        "\n",
        "# Display the partial derivatives\n",
        "print(f\"f'_x(x, y) = {f_prime_x}\")\n",
        "print(f\"f'_y(x, y) = {f_prime_y}\")\n",
        "\n",
        "# Gradient Descent Algorithm for two variables\n",
        "def gradient_descent_2d(f_prime_x, f_prime_y, initial_x, initial_y, learning_rate, tolerance, max_iterations):\n",
        "    x_val, y_val = initial_x, initial_y\n",
        "    for i in range(max_iterations):\n",
        "        grad_x = f_prime_x.subs({x: x_val, y: y_val})\n",
        "        grad_y = f_prime_y.subs({x: x_val, y: y_val})\n",
        "        new_x = x_val - learning_rate * grad_x\n",
        "        new_y = y_val - learning_rate * grad_y\n",
        "        if abs(new_x - x_val) < tolerance and abs(new_y - y_val) < tolerance:\n",
        "            return (new_x, new_y), i + 1\n",
        "        x_val, y_val = new_x, new_y\n",
        "    return (x_val, y_val), max_iterations\n",
        "\n",
        "# Initial guesses\n",
        "initial_x = 0\n",
        "initial_y = 0\n",
        "learning_rate = 0.1\n",
        "tolerance = 1e-6\n",
        "max_iterations = 1000\n",
        "\n",
        "# Run gradient descent\n",
        "min_values, iterations = gradient_descent_2d(f_prime_x, f_prime_y, initial_x, initial_y, learning_rate, tolerance, max_iterations)\n",
        "print(f\"The minimum value is at x = {min_values[0]}, y = {min_values[1]}, found in {iterations} iterations.\")"
      ],
      "metadata": {
        "colab": {
          "base_uri": "https://localhost:8080/"
        },
        "id": "s_rGgCN73YgM",
        "outputId": "6c215688-8840-472e-9197-a4ea58ada501"
      },
      "execution_count": null,
      "outputs": [
        {
          "output_type": "stream",
          "name": "stdout",
          "text": [
            "f'_x(x, y) = 6*x\n",
            "f'_y(x, y) = -5*exp(-y)\n",
            "The minimum value is at x = 0, y = 6.21980920407898, found in 1000 iterations.\n"
          ]
        }
      ]
    },
    {
      "cell_type": "markdown",
      "source": [
        "Question 3"
      ],
      "metadata": {
        "id": "CPBuzAGuAC_F"
      }
    },
    {
      "cell_type": "code",
      "source": [
        "def compute_error(expected, predicted):\n",
        "\n",
        "    return expected - predicted\n",
        "\n",
        "def compute_square_error(error):\n",
        "    return error ** 2\n",
        "\n",
        "def gradient_descent(inputs, expected_outputs, initial_M, initial_C, learning_rate, tolerance, max_iterations):\n",
        "    M = initial_M\n",
        "    C = initial_C\n",
        "    n = len(inputs)\n",
        "\n",
        "    for iteration in range(max_iterations):\n",
        "        total_gradient_M = 0\n",
        "        total_gradient_C = 0\n",
        "\n",
        "        for i in range(n):\n",
        "            predicted = M * inputs[i] + C\n",
        "            error = compute_error(expected_outputs[i], predicted)\n",
        "            total_gradient_M += -2 * inputs[i] * error\n",
        "            total_gradient_C += -2 * error\n",
        "\n",
        "        # Average the gradients\n",
        "        gradient_M = total_gradient_M / n\n",
        "        gradient_C = total_gradient_C / n\n",
        "\n",
        "        # Update M and C\n",
        "        new_M = M - learning_rate * gradient_M\n",
        "        new_C = C - learning_rate * gradient_C\n",
        "\n",
        "        # Check for convergence\n",
        "        if abs(new_M - M) < tolerance and abs(new_C - C) < tolerance:\n",
        "            return (new_M, new_C), iteration + 1\n",
        "\n",
        "        M, C = new_M, new_C\n",
        "\n",
        "    return (M, C), max_iterations\n",
        "# Example usage\n",
        "inputs = [1, 2, 3, 4, 5]  # Example inputs\n",
        "expected_outputs = [2, 4, 6, 8, 10]  # Example expected outputs\n",
        "initial_M = 0.0  # Initial guess for M\n",
        "initial_C = 0.0  # Initial guess for C\n",
        "learning_rate = 0.01  # Learning rate\n",
        "tolerance = 1e-6  # Tolerance for stopping\n",
        "max_iterations = 1000  # Maximum number of iterations\n",
        "\n",
        "optimal_parameters, iterations = gradient_descent(inputs, expected_outputs, initial_M, initial_C, learning_rate, tolerance, max_iterations)\n",
        "print(f\"The optimal values are M = {optimal_parameters[0]}, C = {optimal_parameters[1]}, found in {iterations} iterations.\")"
      ],
      "metadata": {
        "colab": {
          "base_uri": "https://localhost:8080/"
        },
        "id": "Sg59uIXo4Cif",
        "outputId": "74e44cb7-0860-4ef7-8cae-6d4281385c05"
      },
      "execution_count": null,
      "outputs": [
        {
          "output_type": "stream",
          "name": "stdout",
          "text": [
            "The optimal values are M = 1.9951803506719779, C = 0.017400463340610635, found in 1000 iterations.\n"
          ]
        }
      ]
    },
    {
      "cell_type": "markdown",
      "source": [
        "Question 4"
      ],
      "metadata": {
        "id": "mJpmwNhyevMw"
      }
    },
    {
      "cell_type": "code",
      "source": [
        "import math\n",
        "def f(x, y):\n",
        "    return 3*x**2 + 5*math.exp(-y) + 10\n",
        "def df_dx(x, y):\n",
        "    return 6*x\n",
        "def df_dy(x, y):\n",
        "    return -5*math.exp(-y)\n",
        "learning_rate = 0.1\n",
        "x, y = 1.0, 1.0\n",
        "iterations = 1000\n",
        "for i in range(iterations):\n",
        "    x -= learning_rate * df_dx(x, y)\n",
        "    y -= learning_rate * df_dy(x, y)\n",
        "print(f\"f'_x(x, y) = {df_dx(x, y)}\")\n",
        "print(f\"f'_y(x, y) = {df_dy(x, y)}\")\n",
        "print(f\"The minimum value is at x = {x}, y = {y}, found in {iterations} iterations.\")"
      ],
      "metadata": {
        "id": "08ANPTkqACEg",
        "colab": {
          "base_uri": "https://localhost:8080/"
        },
        "outputId": "87195fa0-045e-4193-f491-296c6ef31658"
      },
      "execution_count": null,
      "outputs": [
        {
          "output_type": "stream",
          "name": "stdout",
          "text": [
            "f'_x(x, y) = 0.0\n",
            "f'_y(x, y) = -0.009919840324464965\n",
            "The minimum value is at x = 0.0, y = 6.2226563665731, found in 1000 iterations.\n"
          ]
        }
      ]
    }
  ]
}